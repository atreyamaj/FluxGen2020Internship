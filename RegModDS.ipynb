{
 "cells": [
  {
   "cell_type": "code",
   "execution_count": 1,
   "metadata": {},
   "outputs": [
    {
     "name": "stderr",
     "output_type": "stream",
     "text": [
      "Using TensorFlow backend.\n",
      "/usr/local/lib/python3.6/dist-packages/tensorflow/python/framework/dtypes.py:523: FutureWarning: Passing (type, 1) or '1type' as a synonym of type is deprecated; in a future version of numpy, it will be understood as (type, (1,)) / '(1,)type'.\n",
      "  _np_qint8 = np.dtype([(\"qint8\", np.int8, 1)])\n",
      "/usr/local/lib/python3.6/dist-packages/tensorflow/python/framework/dtypes.py:524: FutureWarning: Passing (type, 1) or '1type' as a synonym of type is deprecated; in a future version of numpy, it will be understood as (type, (1,)) / '(1,)type'.\n",
      "  _np_quint8 = np.dtype([(\"quint8\", np.uint8, 1)])\n",
      "/usr/local/lib/python3.6/dist-packages/tensorflow/python/framework/dtypes.py:525: FutureWarning: Passing (type, 1) or '1type' as a synonym of type is deprecated; in a future version of numpy, it will be understood as (type, (1,)) / '(1,)type'.\n",
      "  _np_qint16 = np.dtype([(\"qint16\", np.int16, 1)])\n",
      "/usr/local/lib/python3.6/dist-packages/tensorflow/python/framework/dtypes.py:526: FutureWarning: Passing (type, 1) or '1type' as a synonym of type is deprecated; in a future version of numpy, it will be understood as (type, (1,)) / '(1,)type'.\n",
      "  _np_quint16 = np.dtype([(\"quint16\", np.uint16, 1)])\n",
      "/usr/local/lib/python3.6/dist-packages/tensorflow/python/framework/dtypes.py:527: FutureWarning: Passing (type, 1) or '1type' as a synonym of type is deprecated; in a future version of numpy, it will be understood as (type, (1,)) / '(1,)type'.\n",
      "  _np_qint32 = np.dtype([(\"qint32\", np.int32, 1)])\n",
      "/usr/local/lib/python3.6/dist-packages/tensorflow/python/framework/dtypes.py:532: FutureWarning: Passing (type, 1) or '1type' as a synonym of type is deprecated; in a future version of numpy, it will be understood as (type, (1,)) / '(1,)type'.\n",
      "  np_resource = np.dtype([(\"resource\", np.ubyte, 1)])\n"
     ]
    }
   ],
   "source": [
    "import matplotlib.pyplot as plt\n",
    "import pandas as pd\n",
    "import pylab as pl\n",
    "import numpy as np\n",
    "import keras"
   ]
  },
  {
   "cell_type": "code",
   "execution_count": 2,
   "metadata": {},
   "outputs": [],
   "source": [
    "df=pd.read_csv(\"FGData.csv\",nrows=2076) #Taking first 2076 rows since they have more meaningful data"
   ]
  },
  {
   "cell_type": "code",
   "execution_count": 3,
   "metadata": {},
   "outputs": [
    {
     "data": {
      "text/html": [
       "<div>\n",
       "<style scoped>\n",
       "    .dataframe tbody tr th:only-of-type {\n",
       "        vertical-align: middle;\n",
       "    }\n",
       "\n",
       "    .dataframe tbody tr th {\n",
       "        vertical-align: top;\n",
       "    }\n",
       "\n",
       "    .dataframe thead th {\n",
       "        text-align: right;\n",
       "    }\n",
       "</style>\n",
       "<table border=\"1\" class=\"dataframe\">\n",
       "  <thead>\n",
       "    <tr style=\"text-align: right;\">\n",
       "      <th></th>\n",
       "      <th>Date</th>\n",
       "      <th>Hour</th>\n",
       "      <th>Minute</th>\n",
       "      <th>M1voltage</th>\n",
       "      <th>M1current</th>\n",
       "      <th>M1power</th>\n",
       "      <th>M1energy</th>\n",
       "      <th>M1waterconsumptionpm</th>\n",
       "      <th>M2voltage</th>\n",
       "      <th>M2current</th>\n",
       "      <th>...</th>\n",
       "      <th>M3energy</th>\n",
       "      <th>M3waterconsumptionpm</th>\n",
       "      <th>Temp</th>\n",
       "      <th>Humid</th>\n",
       "      <th>Windspeed</th>\n",
       "      <th>Winddirec</th>\n",
       "      <th>Rainfall</th>\n",
       "      <th>Pressure</th>\n",
       "      <th>Radiation</th>\n",
       "      <th>Pm2.5</th>\n",
       "    </tr>\n",
       "  </thead>\n",
       "  <tbody>\n",
       "    <tr>\n",
       "      <th>0</th>\n",
       "      <td>13/05/15</td>\n",
       "      <td>0</td>\n",
       "      <td>1</td>\n",
       "      <td>230.127566</td>\n",
       "      <td>0.0</td>\n",
       "      <td>0.0</td>\n",
       "      <td>0.296908</td>\n",
       "      <td>0</td>\n",
       "      <td>230.580605</td>\n",
       "      <td>0.0</td>\n",
       "      <td>...</td>\n",
       "      <td>0.096054</td>\n",
       "      <td>0.0</td>\n",
       "      <td>20.222222</td>\n",
       "      <td>93</td>\n",
       "      <td>0</td>\n",
       "      <td>33</td>\n",
       "      <td>0.28</td>\n",
       "      <td>27.963</td>\n",
       "      <td>0</td>\n",
       "      <td>49.6</td>\n",
       "    </tr>\n",
       "    <tr>\n",
       "      <th>1</th>\n",
       "      <td>13/05/15</td>\n",
       "      <td>0</td>\n",
       "      <td>3</td>\n",
       "      <td>230.145109</td>\n",
       "      <td>0.0</td>\n",
       "      <td>0.0</td>\n",
       "      <td>0.296908</td>\n",
       "      <td>0</td>\n",
       "      <td>230.605005</td>\n",
       "      <td>0.0</td>\n",
       "      <td>...</td>\n",
       "      <td>0.096054</td>\n",
       "      <td>0.0</td>\n",
       "      <td>20.222222</td>\n",
       "      <td>94</td>\n",
       "      <td>0</td>\n",
       "      <td>33</td>\n",
       "      <td>0.28</td>\n",
       "      <td>27.963</td>\n",
       "      <td>0</td>\n",
       "      <td>49.6</td>\n",
       "    </tr>\n",
       "    <tr>\n",
       "      <th>2</th>\n",
       "      <td>13/05/15</td>\n",
       "      <td>0</td>\n",
       "      <td>4</td>\n",
       "      <td>230.156163</td>\n",
       "      <td>0.0</td>\n",
       "      <td>0.0</td>\n",
       "      <td>0.296908</td>\n",
       "      <td>0</td>\n",
       "      <td>230.608336</td>\n",
       "      <td>0.0</td>\n",
       "      <td>...</td>\n",
       "      <td>0.096054</td>\n",
       "      <td>0.0</td>\n",
       "      <td>20.222222</td>\n",
       "      <td>94</td>\n",
       "      <td>0</td>\n",
       "      <td>33</td>\n",
       "      <td>0.28</td>\n",
       "      <td>27.966</td>\n",
       "      <td>0</td>\n",
       "      <td>49.6</td>\n",
       "    </tr>\n",
       "    <tr>\n",
       "      <th>3</th>\n",
       "      <td>13/05/15</td>\n",
       "      <td>0</td>\n",
       "      <td>5</td>\n",
       "      <td>230.154073</td>\n",
       "      <td>0.0</td>\n",
       "      <td>0.0</td>\n",
       "      <td>0.296908</td>\n",
       "      <td>0</td>\n",
       "      <td>230.603044</td>\n",
       "      <td>0.0</td>\n",
       "      <td>...</td>\n",
       "      <td>0.096054</td>\n",
       "      <td>0.0</td>\n",
       "      <td>20.222222</td>\n",
       "      <td>94</td>\n",
       "      <td>0</td>\n",
       "      <td>33</td>\n",
       "      <td>0.28</td>\n",
       "      <td>27.965</td>\n",
       "      <td>0</td>\n",
       "      <td>49.6</td>\n",
       "    </tr>\n",
       "    <tr>\n",
       "      <th>4</th>\n",
       "      <td>13/05/15</td>\n",
       "      <td>0</td>\n",
       "      <td>6</td>\n",
       "      <td>230.187417</td>\n",
       "      <td>0.0</td>\n",
       "      <td>0.0</td>\n",
       "      <td>0.296908</td>\n",
       "      <td>0</td>\n",
       "      <td>230.645034</td>\n",
       "      <td>0.0</td>\n",
       "      <td>...</td>\n",
       "      <td>0.096054</td>\n",
       "      <td>0.0</td>\n",
       "      <td>20.222222</td>\n",
       "      <td>94</td>\n",
       "      <td>0</td>\n",
       "      <td>33</td>\n",
       "      <td>0.28</td>\n",
       "      <td>27.966</td>\n",
       "      <td>0</td>\n",
       "      <td>49.6</td>\n",
       "    </tr>\n",
       "  </tbody>\n",
       "</table>\n",
       "<p>5 rows × 26 columns</p>\n",
       "</div>"
      ],
      "text/plain": [
       "       Date  Hour  Minute   M1voltage  M1current  M1power  M1energy  \\\n",
       "0  13/05/15     0       1  230.127566        0.0      0.0  0.296908   \n",
       "1  13/05/15     0       3  230.145109        0.0      0.0  0.296908   \n",
       "2  13/05/15     0       4  230.156163        0.0      0.0  0.296908   \n",
       "3  13/05/15     0       5  230.154073        0.0      0.0  0.296908   \n",
       "4  13/05/15     0       6  230.187417        0.0      0.0  0.296908   \n",
       "\n",
       "  M1waterconsumptionpm   M2voltage  M2current  ...  M3energy  \\\n",
       "0                    0  230.580605        0.0  ...  0.096054   \n",
       "1                    0  230.605005        0.0  ...  0.096054   \n",
       "2                    0  230.608336        0.0  ...  0.096054   \n",
       "3                    0  230.603044        0.0  ...  0.096054   \n",
       "4                    0  230.645034        0.0  ...  0.096054   \n",
       "\n",
       "   M3waterconsumptionpm       Temp  Humid  Windspeed  Winddirec  Rainfall  \\\n",
       "0                   0.0  20.222222     93          0         33      0.28   \n",
       "1                   0.0  20.222222     94          0         33      0.28   \n",
       "2                   0.0  20.222222     94          0         33      0.28   \n",
       "3                   0.0  20.222222     94          0         33      0.28   \n",
       "4                   0.0  20.222222     94          0         33      0.28   \n",
       "\n",
       "   Pressure  Radiation  Pm2.5  \n",
       "0    27.963          0   49.6  \n",
       "1    27.963          0   49.6  \n",
       "2    27.966          0   49.6  \n",
       "3    27.965          0   49.6  \n",
       "4    27.966          0   49.6  \n",
       "\n",
       "[5 rows x 26 columns]"
      ]
     },
     "execution_count": 3,
     "metadata": {},
     "output_type": "execute_result"
    }
   ],
   "source": [
    "df.head()"
   ]
  },
  {
   "cell_type": "code",
   "execution_count": 4,
   "metadata": {},
   "outputs": [
    {
     "data": {
      "text/html": [
       "<div>\n",
       "<style scoped>\n",
       "    .dataframe tbody tr th:only-of-type {\n",
       "        vertical-align: middle;\n",
       "    }\n",
       "\n",
       "    .dataframe tbody tr th {\n",
       "        vertical-align: top;\n",
       "    }\n",
       "\n",
       "    .dataframe thead th {\n",
       "        text-align: right;\n",
       "    }\n",
       "</style>\n",
       "<table border=\"1\" class=\"dataframe\">\n",
       "  <thead>\n",
       "    <tr style=\"text-align: right;\">\n",
       "      <th></th>\n",
       "      <th>M1voltage</th>\n",
       "      <th>M1energy</th>\n",
       "      <th>M2voltage</th>\n",
       "      <th>M2energy</th>\n",
       "      <th>M3voltage</th>\n",
       "      <th>M3energy</th>\n",
       "      <th>Humid</th>\n",
       "      <th>Temp</th>\n",
       "      <th>Pressure</th>\n",
       "      <th>Pm2.5</th>\n",
       "    </tr>\n",
       "  </thead>\n",
       "  <tbody>\n",
       "    <tr>\n",
       "      <th>0</th>\n",
       "      <td>230.127566</td>\n",
       "      <td>0.296908</td>\n",
       "      <td>230.580605</td>\n",
       "      <td>2.484218</td>\n",
       "      <td>230.052971</td>\n",
       "      <td>0.096054</td>\n",
       "      <td>93</td>\n",
       "      <td>20.222222</td>\n",
       "      <td>27.963</td>\n",
       "      <td>49.6</td>\n",
       "    </tr>\n",
       "    <tr>\n",
       "      <th>1</th>\n",
       "      <td>230.145109</td>\n",
       "      <td>0.296908</td>\n",
       "      <td>230.605005</td>\n",
       "      <td>2.484218</td>\n",
       "      <td>230.084771</td>\n",
       "      <td>0.096054</td>\n",
       "      <td>94</td>\n",
       "      <td>20.222222</td>\n",
       "      <td>27.963</td>\n",
       "      <td>49.6</td>\n",
       "    </tr>\n",
       "    <tr>\n",
       "      <th>2</th>\n",
       "      <td>230.156163</td>\n",
       "      <td>0.296908</td>\n",
       "      <td>230.608336</td>\n",
       "      <td>2.484218</td>\n",
       "      <td>230.085489</td>\n",
       "      <td>0.096054</td>\n",
       "      <td>94</td>\n",
       "      <td>20.222222</td>\n",
       "      <td>27.966</td>\n",
       "      <td>49.6</td>\n",
       "    </tr>\n",
       "    <tr>\n",
       "      <th>3</th>\n",
       "      <td>230.154073</td>\n",
       "      <td>0.296908</td>\n",
       "      <td>230.603044</td>\n",
       "      <td>2.484218</td>\n",
       "      <td>230.080393</td>\n",
       "      <td>0.096054</td>\n",
       "      <td>94</td>\n",
       "      <td>20.222222</td>\n",
       "      <td>27.965</td>\n",
       "      <td>49.6</td>\n",
       "    </tr>\n",
       "    <tr>\n",
       "      <th>4</th>\n",
       "      <td>230.187417</td>\n",
       "      <td>0.296908</td>\n",
       "      <td>230.645034</td>\n",
       "      <td>2.484218</td>\n",
       "      <td>230.316635</td>\n",
       "      <td>0.096054</td>\n",
       "      <td>94</td>\n",
       "      <td>20.222222</td>\n",
       "      <td>27.966</td>\n",
       "      <td>49.6</td>\n",
       "    </tr>\n",
       "    <tr>\n",
       "      <th>...</th>\n",
       "      <td>...</td>\n",
       "      <td>...</td>\n",
       "      <td>...</td>\n",
       "      <td>...</td>\n",
       "      <td>...</td>\n",
       "      <td>...</td>\n",
       "      <td>...</td>\n",
       "      <td>...</td>\n",
       "      <td>...</td>\n",
       "      <td>...</td>\n",
       "    </tr>\n",
       "    <tr>\n",
       "      <th>2071</th>\n",
       "      <td>231.227227</td>\n",
       "      <td>0.489409</td>\n",
       "      <td>231.879227</td>\n",
       "      <td>4.687044</td>\n",
       "      <td>231.156506</td>\n",
       "      <td>0.251474</td>\n",
       "      <td>76</td>\n",
       "      <td>27.666667</td>\n",
       "      <td>27.983</td>\n",
       "      <td>49.6</td>\n",
       "    </tr>\n",
       "    <tr>\n",
       "      <th>2072</th>\n",
       "      <td>231.584082</td>\n",
       "      <td>0.489409</td>\n",
       "      <td>231.879227</td>\n",
       "      <td>4.687044</td>\n",
       "      <td>231.476602</td>\n",
       "      <td>0.251474</td>\n",
       "      <td>73</td>\n",
       "      <td>27.722222</td>\n",
       "      <td>27.983</td>\n",
       "      <td>49.6</td>\n",
       "    </tr>\n",
       "    <tr>\n",
       "      <th>2073</th>\n",
       "      <td>231.370748</td>\n",
       "      <td>0.489409</td>\n",
       "      <td>231.879227</td>\n",
       "      <td>4.687044</td>\n",
       "      <td>231.262773</td>\n",
       "      <td>0.251474</td>\n",
       "      <td>74</td>\n",
       "      <td>27.611111</td>\n",
       "      <td>27.983</td>\n",
       "      <td>49.6</td>\n",
       "    </tr>\n",
       "    <tr>\n",
       "      <th>2074</th>\n",
       "      <td>231.406247</td>\n",
       "      <td>0.489409</td>\n",
       "      <td>231.879227</td>\n",
       "      <td>4.687044</td>\n",
       "      <td>231.316028</td>\n",
       "      <td>0.251474</td>\n",
       "      <td>74</td>\n",
       "      <td>27.666667</td>\n",
       "      <td>27.981</td>\n",
       "      <td>49.6</td>\n",
       "    </tr>\n",
       "    <tr>\n",
       "      <th>2075</th>\n",
       "      <td>0.000000</td>\n",
       "      <td>0.000000</td>\n",
       "      <td>230.402784</td>\n",
       "      <td>1.556426</td>\n",
       "      <td>230.321457</td>\n",
       "      <td>0.291953</td>\n",
       "      <td>96</td>\n",
       "      <td>21.944444</td>\n",
       "      <td>27.901</td>\n",
       "      <td>49.7</td>\n",
       "    </tr>\n",
       "  </tbody>\n",
       "</table>\n",
       "<p>2076 rows × 10 columns</p>\n",
       "</div>"
      ],
      "text/plain": [
       "       M1voltage  M1energy   M2voltage  M2energy   M3voltage  M3energy  Humid  \\\n",
       "0     230.127566  0.296908  230.580605  2.484218  230.052971  0.096054     93   \n",
       "1     230.145109  0.296908  230.605005  2.484218  230.084771  0.096054     94   \n",
       "2     230.156163  0.296908  230.608336  2.484218  230.085489  0.096054     94   \n",
       "3     230.154073  0.296908  230.603044  2.484218  230.080393  0.096054     94   \n",
       "4     230.187417  0.296908  230.645034  2.484218  230.316635  0.096054     94   \n",
       "...          ...       ...         ...       ...         ...       ...    ...   \n",
       "2071  231.227227  0.489409  231.879227  4.687044  231.156506  0.251474     76   \n",
       "2072  231.584082  0.489409  231.879227  4.687044  231.476602  0.251474     73   \n",
       "2073  231.370748  0.489409  231.879227  4.687044  231.262773  0.251474     74   \n",
       "2074  231.406247  0.489409  231.879227  4.687044  231.316028  0.251474     74   \n",
       "2075    0.000000  0.000000  230.402784  1.556426  230.321457  0.291953     96   \n",
       "\n",
       "           Temp  Pressure  Pm2.5  \n",
       "0     20.222222    27.963   49.6  \n",
       "1     20.222222    27.963   49.6  \n",
       "2     20.222222    27.966   49.6  \n",
       "3     20.222222    27.965   49.6  \n",
       "4     20.222222    27.966   49.6  \n",
       "...         ...       ...    ...  \n",
       "2071  27.666667    27.983   49.6  \n",
       "2072  27.722222    27.983   49.6  \n",
       "2073  27.611111    27.983   49.6  \n",
       "2074  27.666667    27.981   49.6  \n",
       "2075  21.944444    27.901   49.7  \n",
       "\n",
       "[2076 rows x 10 columns]"
      ]
     },
     "execution_count": 4,
     "metadata": {},
     "output_type": "execute_result"
    }
   ],
   "source": [
    "cdf = df[['M1voltage','M1energy','M2voltage','M2energy','M3voltage','M3energy','Humid','Temp','Pressure','Pm2.5']]\n",
    "cdf.head(10000)"
   ]
  },
  {
   "cell_type": "code",
   "execution_count": 5,
   "metadata": {},
   "outputs": [
    {
     "data": {
      "text/html": [
       "<div>\n",
       "<style scoped>\n",
       "    .dataframe tbody tr th:only-of-type {\n",
       "        vertical-align: middle;\n",
       "    }\n",
       "\n",
       "    .dataframe tbody tr th {\n",
       "        vertical-align: top;\n",
       "    }\n",
       "\n",
       "    .dataframe thead th {\n",
       "        text-align: right;\n",
       "    }\n",
       "</style>\n",
       "<table border=\"1\" class=\"dataframe\">\n",
       "  <thead>\n",
       "    <tr style=\"text-align: right;\">\n",
       "      <th></th>\n",
       "      <th>M1voltage</th>\n",
       "      <th>M1energy</th>\n",
       "      <th>M2voltage</th>\n",
       "      <th>M2energy</th>\n",
       "      <th>M3voltage</th>\n",
       "      <th>M3energy</th>\n",
       "      <th>Humid</th>\n",
       "      <th>Temp</th>\n",
       "      <th>Pressure</th>\n",
       "      <th>Pm2.5</th>\n",
       "    </tr>\n",
       "  </thead>\n",
       "  <tbody>\n",
       "    <tr>\n",
       "      <th>0</th>\n",
       "      <td>230.127566</td>\n",
       "      <td>0.296908</td>\n",
       "      <td>230.580605</td>\n",
       "      <td>2.484218</td>\n",
       "      <td>230.052971</td>\n",
       "      <td>0.096054</td>\n",
       "      <td>93</td>\n",
       "      <td>20.222222</td>\n",
       "      <td>27.963</td>\n",
       "      <td>49.6</td>\n",
       "    </tr>\n",
       "    <tr>\n",
       "      <th>1</th>\n",
       "      <td>230.145109</td>\n",
       "      <td>0.296908</td>\n",
       "      <td>230.605005</td>\n",
       "      <td>2.484218</td>\n",
       "      <td>230.084771</td>\n",
       "      <td>0.096054</td>\n",
       "      <td>94</td>\n",
       "      <td>20.222222</td>\n",
       "      <td>27.963</td>\n",
       "      <td>49.6</td>\n",
       "    </tr>\n",
       "    <tr>\n",
       "      <th>2</th>\n",
       "      <td>230.156163</td>\n",
       "      <td>0.296908</td>\n",
       "      <td>230.608336</td>\n",
       "      <td>2.484218</td>\n",
       "      <td>230.085489</td>\n",
       "      <td>0.096054</td>\n",
       "      <td>94</td>\n",
       "      <td>20.222222</td>\n",
       "      <td>27.966</td>\n",
       "      <td>49.6</td>\n",
       "    </tr>\n",
       "    <tr>\n",
       "      <th>3</th>\n",
       "      <td>230.154073</td>\n",
       "      <td>0.296908</td>\n",
       "      <td>230.603044</td>\n",
       "      <td>2.484218</td>\n",
       "      <td>230.080393</td>\n",
       "      <td>0.096054</td>\n",
       "      <td>94</td>\n",
       "      <td>20.222222</td>\n",
       "      <td>27.965</td>\n",
       "      <td>49.6</td>\n",
       "    </tr>\n",
       "    <tr>\n",
       "      <th>4</th>\n",
       "      <td>230.187417</td>\n",
       "      <td>0.296908</td>\n",
       "      <td>230.645034</td>\n",
       "      <td>2.484218</td>\n",
       "      <td>230.316635</td>\n",
       "      <td>0.096054</td>\n",
       "      <td>94</td>\n",
       "      <td>20.222222</td>\n",
       "      <td>27.966</td>\n",
       "      <td>49.6</td>\n",
       "    </tr>\n",
       "    <tr>\n",
       "      <th>...</th>\n",
       "      <td>...</td>\n",
       "      <td>...</td>\n",
       "      <td>...</td>\n",
       "      <td>...</td>\n",
       "      <td>...</td>\n",
       "      <td>...</td>\n",
       "      <td>...</td>\n",
       "      <td>...</td>\n",
       "      <td>...</td>\n",
       "      <td>...</td>\n",
       "    </tr>\n",
       "    <tr>\n",
       "      <th>2071</th>\n",
       "      <td>231.227227</td>\n",
       "      <td>0.489409</td>\n",
       "      <td>231.879227</td>\n",
       "      <td>4.687044</td>\n",
       "      <td>231.156506</td>\n",
       "      <td>0.251474</td>\n",
       "      <td>76</td>\n",
       "      <td>27.666667</td>\n",
       "      <td>27.983</td>\n",
       "      <td>49.6</td>\n",
       "    </tr>\n",
       "    <tr>\n",
       "      <th>2072</th>\n",
       "      <td>231.584082</td>\n",
       "      <td>0.489409</td>\n",
       "      <td>231.879227</td>\n",
       "      <td>4.687044</td>\n",
       "      <td>231.476602</td>\n",
       "      <td>0.251474</td>\n",
       "      <td>73</td>\n",
       "      <td>27.722222</td>\n",
       "      <td>27.983</td>\n",
       "      <td>49.6</td>\n",
       "    </tr>\n",
       "    <tr>\n",
       "      <th>2073</th>\n",
       "      <td>231.370748</td>\n",
       "      <td>0.489409</td>\n",
       "      <td>231.879227</td>\n",
       "      <td>4.687044</td>\n",
       "      <td>231.262773</td>\n",
       "      <td>0.251474</td>\n",
       "      <td>74</td>\n",
       "      <td>27.611111</td>\n",
       "      <td>27.983</td>\n",
       "      <td>49.6</td>\n",
       "    </tr>\n",
       "    <tr>\n",
       "      <th>2074</th>\n",
       "      <td>231.406247</td>\n",
       "      <td>0.489409</td>\n",
       "      <td>231.879227</td>\n",
       "      <td>4.687044</td>\n",
       "      <td>231.316028</td>\n",
       "      <td>0.251474</td>\n",
       "      <td>74</td>\n",
       "      <td>27.666667</td>\n",
       "      <td>27.981</td>\n",
       "      <td>49.6</td>\n",
       "    </tr>\n",
       "    <tr>\n",
       "      <th>2075</th>\n",
       "      <td>0.000000</td>\n",
       "      <td>0.000000</td>\n",
       "      <td>230.402784</td>\n",
       "      <td>1.556426</td>\n",
       "      <td>230.321457</td>\n",
       "      <td>0.291953</td>\n",
       "      <td>96</td>\n",
       "      <td>21.944444</td>\n",
       "      <td>27.901</td>\n",
       "      <td>49.7</td>\n",
       "    </tr>\n",
       "  </tbody>\n",
       "</table>\n",
       "<p>2076 rows × 10 columns</p>\n",
       "</div>"
      ],
      "text/plain": [
       "       M1voltage  M1energy   M2voltage  M2energy   M3voltage  M3energy  Humid  \\\n",
       "0     230.127566  0.296908  230.580605  2.484218  230.052971  0.096054     93   \n",
       "1     230.145109  0.296908  230.605005  2.484218  230.084771  0.096054     94   \n",
       "2     230.156163  0.296908  230.608336  2.484218  230.085489  0.096054     94   \n",
       "3     230.154073  0.296908  230.603044  2.484218  230.080393  0.096054     94   \n",
       "4     230.187417  0.296908  230.645034  2.484218  230.316635  0.096054     94   \n",
       "...          ...       ...         ...       ...         ...       ...    ...   \n",
       "2071  231.227227  0.489409  231.879227  4.687044  231.156506  0.251474     76   \n",
       "2072  231.584082  0.489409  231.879227  4.687044  231.476602  0.251474     73   \n",
       "2073  231.370748  0.489409  231.879227  4.687044  231.262773  0.251474     74   \n",
       "2074  231.406247  0.489409  231.879227  4.687044  231.316028  0.251474     74   \n",
       "2075    0.000000  0.000000  230.402784  1.556426  230.321457  0.291953     96   \n",
       "\n",
       "           Temp  Pressure  Pm2.5  \n",
       "0     20.222222    27.963   49.6  \n",
       "1     20.222222    27.963   49.6  \n",
       "2     20.222222    27.966   49.6  \n",
       "3     20.222222    27.965   49.6  \n",
       "4     20.222222    27.966   49.6  \n",
       "...         ...       ...    ...  \n",
       "2071  27.666667    27.983   49.6  \n",
       "2072  27.722222    27.983   49.6  \n",
       "2073  27.611111    27.983   49.6  \n",
       "2074  27.666667    27.981   49.6  \n",
       "2075  21.944444    27.901   49.7  \n",
       "\n",
       "[2076 rows x 10 columns]"
      ]
     },
     "execution_count": 5,
     "metadata": {},
     "output_type": "execute_result"
    }
   ],
   "source": [
    "cdf.dropna()"
   ]
  },
  {
   "cell_type": "code",
   "execution_count": null,
   "metadata": {},
   "outputs": [],
   "source": []
  },
  {
   "cell_type": "code",
   "execution_count": 6,
   "metadata": {},
   "outputs": [
    {
     "data": {
      "text/plain": [
       "M1voltage    float64\n",
       "M1energy     float64\n",
       "M2voltage    float64\n",
       "M2energy     float64\n",
       "M3voltage    float64\n",
       "M3energy     float64\n",
       "Humid          int64\n",
       "Temp         float64\n",
       "Pressure     float64\n",
       "Pm2.5        float64\n",
       "dtype: object"
      ]
     },
     "execution_count": 6,
     "metadata": {},
     "output_type": "execute_result"
    }
   ],
   "source": [
    "cdf.dtypes"
   ]
  },
  {
   "cell_type": "code",
   "execution_count": null,
   "metadata": {},
   "outputs": [],
   "source": []
  },
  {
   "cell_type": "code",
   "execution_count": 7,
   "metadata": {},
   "outputs": [
    {
     "data": {
      "text/html": [
       "<div>\n",
       "<style scoped>\n",
       "    .dataframe tbody tr th:only-of-type {\n",
       "        vertical-align: middle;\n",
       "    }\n",
       "\n",
       "    .dataframe tbody tr th {\n",
       "        vertical-align: top;\n",
       "    }\n",
       "\n",
       "    .dataframe thead th {\n",
       "        text-align: right;\n",
       "    }\n",
       "</style>\n",
       "<table border=\"1\" class=\"dataframe\">\n",
       "  <thead>\n",
       "    <tr style=\"text-align: right;\">\n",
       "      <th></th>\n",
       "      <th>M1voltage</th>\n",
       "      <th>M1energy</th>\n",
       "      <th>M2voltage</th>\n",
       "      <th>M2energy</th>\n",
       "      <th>M3voltage</th>\n",
       "      <th>M3energy</th>\n",
       "      <th>Humid</th>\n",
       "      <th>Temp</th>\n",
       "      <th>Pressure</th>\n",
       "      <th>Pm2.5</th>\n",
       "    </tr>\n",
       "  </thead>\n",
       "  <tbody>\n",
       "    <tr>\n",
       "      <th>count</th>\n",
       "      <td>2076.000000</td>\n",
       "      <td>2076.000000</td>\n",
       "      <td>2076.000000</td>\n",
       "      <td>2076.000000</td>\n",
       "      <td>2076.000000</td>\n",
       "      <td>2076.000000</td>\n",
       "      <td>2076.000000</td>\n",
       "      <td>2076.000000</td>\n",
       "      <td>2076.000000</td>\n",
       "      <td>2076.000000</td>\n",
       "    </tr>\n",
       "    <tr>\n",
       "      <th>mean</th>\n",
       "      <td>230.656836</td>\n",
       "      <td>0.375823</td>\n",
       "      <td>231.456139</td>\n",
       "      <td>3.453680</td>\n",
       "      <td>230.693527</td>\n",
       "      <td>0.162937</td>\n",
       "      <td>90.920520</td>\n",
       "      <td>22.919744</td>\n",
       "      <td>27.957587</td>\n",
       "      <td>49.600048</td>\n",
       "    </tr>\n",
       "    <tr>\n",
       "      <th>std</th>\n",
       "      <td>5.127949</td>\n",
       "      <td>0.084839</td>\n",
       "      <td>0.772691</td>\n",
       "      <td>0.928086</td>\n",
       "      <td>0.803388</td>\n",
       "      <td>0.064350</td>\n",
       "      <td>5.004378</td>\n",
       "      <td>1.718580</td>\n",
       "      <td>0.034008</td>\n",
       "      <td>0.002195</td>\n",
       "    </tr>\n",
       "    <tr>\n",
       "      <th>min</th>\n",
       "      <td>0.000000</td>\n",
       "      <td>0.000000</td>\n",
       "      <td>229.400251</td>\n",
       "      <td>1.556426</td>\n",
       "      <td>228.976638</td>\n",
       "      <td>0.096054</td>\n",
       "      <td>73.000000</td>\n",
       "      <td>19.611111</td>\n",
       "      <td>27.882000</td>\n",
       "      <td>49.600000</td>\n",
       "    </tr>\n",
       "    <tr>\n",
       "      <th>25%</th>\n",
       "      <td>230.126699</td>\n",
       "      <td>0.299522</td>\n",
       "      <td>230.839715</td>\n",
       "      <td>2.634063</td>\n",
       "      <td>230.054124</td>\n",
       "      <td>0.115915</td>\n",
       "      <td>89.000000</td>\n",
       "      <td>22.722222</td>\n",
       "      <td>27.938000</td>\n",
       "      <td>49.600000</td>\n",
       "    </tr>\n",
       "    <tr>\n",
       "      <th>50%</th>\n",
       "      <td>230.668182</td>\n",
       "      <td>0.321866</td>\n",
       "      <td>231.802608</td>\n",
       "      <td>3.026289</td>\n",
       "      <td>230.587719</td>\n",
       "      <td>0.119838</td>\n",
       "      <td>92.000000</td>\n",
       "      <td>23.000000</td>\n",
       "      <td>27.957000</td>\n",
       "      <td>49.600000</td>\n",
       "    </tr>\n",
       "    <tr>\n",
       "      <th>75%</th>\n",
       "      <td>231.214924</td>\n",
       "      <td>0.489409</td>\n",
       "      <td>231.879227</td>\n",
       "      <td>4.687044</td>\n",
       "      <td>231.133123</td>\n",
       "      <td>0.250149</td>\n",
       "      <td>94.000000</td>\n",
       "      <td>23.555556</td>\n",
       "      <td>27.984000</td>\n",
       "      <td>49.600000</td>\n",
       "    </tr>\n",
       "    <tr>\n",
       "      <th>max</th>\n",
       "      <td>233.480226</td>\n",
       "      <td>0.489409</td>\n",
       "      <td>233.945350</td>\n",
       "      <td>4.687044</td>\n",
       "      <td>233.397394</td>\n",
       "      <td>0.291953</td>\n",
       "      <td>97.000000</td>\n",
       "      <td>28.222222</td>\n",
       "      <td>28.023000</td>\n",
       "      <td>49.700000</td>\n",
       "    </tr>\n",
       "  </tbody>\n",
       "</table>\n",
       "</div>"
      ],
      "text/plain": [
       "         M1voltage     M1energy    M2voltage     M2energy    M3voltage  \\\n",
       "count  2076.000000  2076.000000  2076.000000  2076.000000  2076.000000   \n",
       "mean    230.656836     0.375823   231.456139     3.453680   230.693527   \n",
       "std       5.127949     0.084839     0.772691     0.928086     0.803388   \n",
       "min       0.000000     0.000000   229.400251     1.556426   228.976638   \n",
       "25%     230.126699     0.299522   230.839715     2.634063   230.054124   \n",
       "50%     230.668182     0.321866   231.802608     3.026289   230.587719   \n",
       "75%     231.214924     0.489409   231.879227     4.687044   231.133123   \n",
       "max     233.480226     0.489409   233.945350     4.687044   233.397394   \n",
       "\n",
       "          M3energy        Humid         Temp     Pressure        Pm2.5  \n",
       "count  2076.000000  2076.000000  2076.000000  2076.000000  2076.000000  \n",
       "mean      0.162937    90.920520    22.919744    27.957587    49.600048  \n",
       "std       0.064350     5.004378     1.718580     0.034008     0.002195  \n",
       "min       0.096054    73.000000    19.611111    27.882000    49.600000  \n",
       "25%       0.115915    89.000000    22.722222    27.938000    49.600000  \n",
       "50%       0.119838    92.000000    23.000000    27.957000    49.600000  \n",
       "75%       0.250149    94.000000    23.555556    27.984000    49.600000  \n",
       "max       0.291953    97.000000    28.222222    28.023000    49.700000  "
      ]
     },
     "execution_count": 7,
     "metadata": {},
     "output_type": "execute_result"
    }
   ],
   "source": [
    "cdf.describe()"
   ]
  },
  {
   "cell_type": "code",
   "execution_count": 8,
   "metadata": {},
   "outputs": [
    {
     "data": {
      "image/png": "[encoded data removed]",
      "text/plain": [
       "<Figure size 432x288 with 4 Axes>"
      ]
     },
     "metadata": {
      "needs_background": "light"
     },
     "output_type": "display_data"
    }
   ],
   "source": [
    "#Plotting the features: \n",
    "viz = cdf[['M1energy','M2energy','M3energy']]\n",
    "viz.hist() #Histogram\n",
    "plt.show()"
   ]
  },
  {
   "cell_type": "code",
   "execution_count": 9,
   "metadata": {},
   "outputs": [
    {
     "data": {
      "image/png": "[encoded data removed]",
      "text/plain": [
       "<Figure size 432x288 with 1 Axes>"
      ]
     },
     "metadata": {
      "needs_background": "light"
     },
     "output_type": "display_data"
    }
   ],
   "source": [
    "#Plot emmission vs engine size:\n",
    "plt.scatter(cdf.M1voltage, cdf.Temp,  color='blue')\n",
    "plt.xlabel(\"M1 voltage\")\n",
    "plt.ylabel(\"Temp\")\n",
    "plt.show()"
   ]
  },
  {
   "cell_type": "code",
   "execution_count": 10,
   "metadata": {},
   "outputs": [
    {
     "data": {
      "image/png": "[encoded data removed]",
      "text/plain": [
       "<Figure size 432x288 with 1 Axes>"
      ]
     },
     "metadata": {
      "needs_background": "light"
     },
     "output_type": "display_data"
    }
   ],
   "source": [
    "#Plot emmission vs engine size:\n",
    "plt.scatter(cdf.M2voltage, cdf.Temp,  color='blue')\n",
    "plt.xlabel(\"M2 voltage\")\n",
    "plt.ylabel(\"Temp\")\n",
    "plt.show()"
   ]
  },
  {
   "cell_type": "code",
   "execution_count": 11,
   "metadata": {},
   "outputs": [
    {
     "data": {
      "image/png": "[encoded data removed]",
      "text/plain": [
       "<Figure size 432x288 with 1 Axes>"
      ]
     },
     "metadata": {
      "needs_background": "light"
     },
     "output_type": "display_data"
    }
   ],
   "source": [
    "#Plot emmission vs engine size:\n",
    "plt.scatter(cdf.M3voltage, cdf.Temp,  color='blue')\n",
    "plt.xlabel(\"M3 voltage\")\n",
    "plt.ylabel(\"Temp\")\n",
    "plt.show()"
   ]
  },
  {
   "cell_type": "code",
   "execution_count": 12,
   "metadata": {},
   "outputs": [],
   "source": [
    "#Changing pandas dataframe into np arrays:\n",
    "X = cdf.iloc[:,0:5].values\n",
    "temppred = cdf.iloc[:,7].values"
   ]
  },
  {
   "cell_type": "code",
   "execution_count": 13,
   "metadata": {},
   "outputs": [
    {
     "data": {
      "text/plain": [
       "array([[230.127566,   0.296908, 230.580605,   2.484218, 230.052971],\n",
       "       [230.145109,   0.296908, 230.605005,   2.484218, 230.084771],\n",
       "       [230.156163,   0.296908, 230.608336,   2.484218, 230.085489],\n",
       "       ...,\n",
       "       [231.370748,   0.489409, 231.879227,   4.687044, 231.262773],\n",
       "       [231.406247,   0.489409, 231.879227,   4.687044, 231.316028],\n",
       "       [  0.      ,   0.      , 230.402784,   1.556426, 230.321457]])"
      ]
     },
     "execution_count": 13,
     "metadata": {},
     "output_type": "execute_result"
    }
   ],
   "source": [
    "X\n"
   ]
  },
  {
   "cell_type": "code",
   "execution_count": 14,
   "metadata": {},
   "outputs": [
    {
     "data": {
      "text/plain": [
       "array([20.222222, 20.222222, 20.222222, ..., 27.611111, 27.666667,\n",
       "       21.944444])"
      ]
     },
     "execution_count": 14,
     "metadata": {},
     "output_type": "execute_result"
    }
   ],
   "source": [
    "temppred"
   ]
  },
  {
   "cell_type": "code",
   "execution_count": 15,
   "metadata": {},
   "outputs": [],
   "source": [
    "#Normalizing data:\n",
    "from sklearn.preprocessing import StandardScaler\n",
    "sc = StandardScaler()\n",
    "X = sc.fit_transform(X)\n"
   ]
  },
  {
   "cell_type": "code",
   "execution_count": 16,
   "metadata": {},
   "outputs": [
    {
     "data": {
      "text/plain": [
       "array([[ -0.10323762,  -0.93039287,  -1.13337109,  -1.04483339,\n",
       "         -0.79750978],\n",
       "       [ -0.09981574,  -0.93039287,  -1.10178551,  -1.04483339,\n",
       "         -0.75791788],\n",
       "       [ -0.09765958,  -0.93039287,  -1.09747356,  -1.04483339,\n",
       "         -0.75702395],\n",
       "       ...,\n",
       "       [  0.13925341,   1.33916459,   0.54768323,   1.32925245,\n",
       "          0.70872781],\n",
       "       [  0.14617773,   1.33916459,   0.54768323,   1.32925245,\n",
       "          0.77503179],\n",
       "       [-44.9911706 ,  -4.43089295,  -1.36355875,  -2.04475705,\n",
       "         -0.46323714]])"
      ]
     },
     "execution_count": 16,
     "metadata": {},
     "output_type": "execute_result"
    }
   ],
   "source": [
    "X\n"
   ]
  },
  {
   "cell_type": "code",
   "execution_count": 17,
   "metadata": {},
   "outputs": [],
   "source": [
    "#Train vs test 80:20\n",
    "msk = np.random.rand(len(df)) < 0.8\n",
    "train = cdf[msk]\n",
    "test = cdf[~msk]"
   ]
  },
  {
   "cell_type": "code",
   "execution_count": 18,
   "metadata": {},
   "outputs": [
    {
     "name": "stdout",
     "output_type": "stream",
     "text": [
      "Coefficients:  [ 0.4884106  -9.51737073 -1.22851306 10.95318208  0.96280202]\n"
     ]
    }
   ],
   "source": [
    "#Model:\n",
    "from sklearn import linear_model\n",
    "regr = linear_model.LinearRegression()\n",
    "regr.fit (X,temppred)\n",
    "# The coefficients\n",
    "print ('Coefficients: ', regr.coef_)"
   ]
  },
  {
   "cell_type": "code",
   "execution_count": 19,
   "metadata": {},
   "outputs": [
    {
     "name": "stdout",
     "output_type": "stream",
     "text": [
      "Variance score: 0.61\n"
     ]
    }
   ],
   "source": [
    "#y_hat= regr.predict(test[['M1voltage','M1energy','M2voltage','M2energy','M3voltage','M3energy','Humid','Temp']])\n",
    "#x = np.asanyarray(test[['ENGINESIZE','CYLINDERS','FUELCONSUMPTION_COMB']])\n",
    "#y = np.asanyarray(test[['CO2EMISSIONS']])\n",
    "#print(\"Residual sum of squares: %.2f\"\n",
    "#      % np.mean((y_hat - y) ** 2))\n",
    "\n",
    "# Explained variance score: 1 is perfect prediction\n",
    "print('Variance score: %.2f' % regr.score(X, temppred))"
   ]
  },
  {
   "cell_type": "code",
   "execution_count": 20,
   "metadata": {},
   "outputs": [],
   "source": [
    "pressurepred = cdf.iloc[:,8].values\n",
    "humidpred=cdf.iloc[:,6].values"
   ]
  },
  {
   "cell_type": "code",
   "execution_count": 21,
   "metadata": {},
   "outputs": [
    {
     "name": "stdout",
     "output_type": "stream",
     "text": [
      "Coefficients:  [-0.00739859  0.14684738 -0.01585093 -0.12122334  0.01782286]\n"
     ]
    }
   ],
   "source": [
    "#Model:\n",
    "from sklearn import linear_model\n",
    "regr = linear_model.LinearRegression()\n",
    "regr.fit (X,pressurepred)\n",
    "# The coefficients\n",
    "print ('Coefficients: ', regr.coef_)"
   ]
  },
  {
   "cell_type": "code",
   "execution_count": 22,
   "metadata": {},
   "outputs": [
    {
     "name": "stdout",
     "output_type": "stream",
     "text": [
      "Variance score: 0.40\n"
     ]
    }
   ],
   "source": [
    "print('Variance score: %.2f' % regr.score(X, pressurepred))"
   ]
  },
  {
   "cell_type": "code",
   "execution_count": 23,
   "metadata": {},
   "outputs": [
    {
     "name": "stdout",
     "output_type": "stream",
     "text": [
      "Coefficients:  [-0.01357357 -1.51767758  3.57056005 -0.59912415 -3.21059405]\n"
     ]
    }
   ],
   "source": [
    "#Model:\n",
    "from sklearn import linear_model\n",
    "regr = linear_model.LinearRegression()\n",
    "regr.fit (X,humidpred)\n",
    "# The coefficients\n",
    "print ('Coefficients: ', regr.coef_)"
   ]
  },
  {
   "cell_type": "code",
   "execution_count": 24,
   "metadata": {},
   "outputs": [
    {
     "name": "stdout",
     "output_type": "stream",
     "text": [
      "Variance score: 0.12\n"
     ]
    }
   ],
   "source": [
    "print('Variance score: %.2f' % regr.score(X, humidpred))"
   ]
  },
  {
   "cell_type": "code",
   "execution_count": null,
   "metadata": {},
   "outputs": [],
   "source": []
  },
  {
   "cell_type": "code",
   "execution_count": 25,
   "metadata": {},
   "outputs": [],
   "source": [
    "#SVR (State Vector Regression)"
   ]
  },
  {
   "cell_type": "code",
   "execution_count": 26,
   "metadata": {},
   "outputs": [],
   "source": [
    "from sklearn.svm import SVR"
   ]
  },
  {
   "cell_type": "code",
   "execution_count": 27,
   "metadata": {},
   "outputs": [
    {
     "data": {
      "text/plain": [
       "SVR(C=1.0, cache_size=200, coef0=0.0, degree=3, epsilon=0.1, gamma='scale',\n",
       "    kernel='rbf', max_iter=-1, shrinking=True, tol=0.001, verbose=False)"
      ]
     },
     "execution_count": 27,
     "metadata": {},
     "output_type": "execute_result"
    }
   ],
   "source": [
    "regressor = SVR(kernel='rbf')\n",
    "regressor.fit(X,temppred)"
   ]
  },
  {
   "cell_type": "code",
   "execution_count": 28,
   "metadata": {},
   "outputs": [
    {
     "data": {
      "text/plain": [
       "0.6236353905686816"
      ]
     },
     "execution_count": 28,
     "metadata": {},
     "output_type": "execute_result"
    }
   ],
   "source": [
    "regressor.score(X,temppred)"
   ]
  },
  {
   "cell_type": "code",
   "execution_count": 29,
   "metadata": {},
   "outputs": [],
   "source": [
    "#regressor.predict([[a,b,c,d,e,f]])----> Store value for temp, humidity, pressure -----> Predict whether safe to go out"
   ]
  },
  {
   "cell_type": "code",
   "execution_count": 30,
   "metadata": {},
   "outputs": [],
   "source": [
    "#Multi Layer Perceptron"
   ]
  },
  {
   "cell_type": "code",
   "execution_count": 31,
   "metadata": {},
   "outputs": [],
   "source": [
    "from sklearn.neural_network import MLPClassifier"
   ]
  },
  {
   "cell_type": "code",
   "execution_count": 32,
   "metadata": {},
   "outputs": [],
   "source": [
    " clf = MLPClassifier(solver='lbfgs', alpha=1e-5,hidden_layer_sizes=(5, 2), random_state=1)"
   ]
  },
  {
   "cell_type": "code",
   "execution_count": null,
   "metadata": {},
   "outputs": [],
   "source": []
  },
  {
   "cell_type": "code",
   "execution_count": 33,
   "metadata": {},
   "outputs": [],
   "source": [
    "def accuracy(confusion_matrix):\n",
    "   diagonal_sum = confusion_matrix.trace()\n",
    "   sum_of_all_elements = confusion_matrix.sum()\n",
    "   return diagonal_sum / sum_of_all_elements"
   ]
  },
  {
   "cell_type": "code",
   "execution_count": 34,
   "metadata": {},
   "outputs": [],
   "source": [
    "#Importing MLPClassifier\n",
    "from sklearn.neural_network import MLPClassifier"
   ]
  },
  {
   "cell_type": "code",
   "execution_count": 35,
   "metadata": {},
   "outputs": [],
   "source": [
    "#Initializing the MLPClassifier\n",
    "regx = MLPClassifier(hidden_layer_sizes=(150,100,50), max_iter=300,activation = 'relu',solver='adam',random_state=1)"
   ]
  },
  {
   "cell_type": "code",
   "execution_count": 36,
   "metadata": {},
   "outputs": [],
   "source": [
    "from sklearn import svm"
   ]
  },
  {
   "cell_type": "code",
   "execution_count": 37,
   "metadata": {},
   "outputs": [],
   "source": [
    "classifiers = [\n",
    "    svm.SVR(),\n",
    "    linear_model.SGDRegressor(),\n",
    "    linear_model.BayesianRidge(),\n",
    "    linear_model.LassoLars(),\n",
    "    linear_model.ARDRegression(),\n",
    "    linear_model.PassiveAggressiveRegressor(),\n",
    "    linear_model.TheilSenRegressor(),\n",
    "    linear_model.LinearRegression()]"
   ]
  },
  {
   "cell_type": "code",
   "execution_count": 38,
   "metadata": {},
   "outputs": [],
   "source": [
    "from sklearn.linear_model import BayesianRidge,ARDRegression,PassiveAggressiveRegressor,LinearRegression"
   ]
  },
  {
   "cell_type": "code",
   "execution_count": 39,
   "metadata": {},
   "outputs": [
    {
     "data": {
      "text/plain": [
       "0.6093488407193335"
      ]
     },
     "execution_count": 39,
     "metadata": {},
     "output_type": "execute_result"
    }
   ],
   "source": [
    "regressor = BayesianRidge()\n",
    "regressor.fit(X,temppred)\n",
    "regressor.score(X,temppred)"
   ]
  },
  {
   "cell_type": "code",
   "execution_count": 41,
   "metadata": {},
   "outputs": [
    {
     "data": {
      "text/plain": [
       "0.6093500808399235"
      ]
     },
     "execution_count": 41,
     "metadata": {},
     "output_type": "execute_result"
    }
   ],
   "source": [
    "\n",
    "regressor =ARDRegression()\n",
    "regressor.fit(X,temppred)\n",
    "regressor.score(X,temppred)\n"
   ]
  },
  {
   "cell_type": "code",
   "execution_count": 42,
   "metadata": {},
   "outputs": [
    {
     "data": {
      "text/plain": [
       "0.19390072166848737"
      ]
     },
     "execution_count": 42,
     "metadata": {},
     "output_type": "execute_result"
    }
   ],
   "source": [
    "regressor =PassiveAggressiveRegressor()\n",
    "regressor.fit(X,temppred)\n",
    "regressor.score(X,temppred)"
   ]
  },
  {
   "cell_type": "code",
   "execution_count": 43,
   "metadata": {},
   "outputs": [
    {
     "data": {
      "text/plain": [
       "0.609353308434625"
      ]
     },
     "execution_count": 43,
     "metadata": {},
     "output_type": "execute_result"
    }
   ],
   "source": [
    "regressor =LinearRegression()\n",
    "regressor.fit(X,temppred)\n",
    "regressor.score(X,temppred)"
   ]
  },
  {
   "cell_type": "code",
   "execution_count": null,
   "metadata": {},
   "outputs": [],
   "source": []
  },
  {
   "cell_type": "code",
   "execution_count": null,
   "metadata": {},
   "outputs": [],
   "source": []
  },
  {
   "cell_type": "code",
   "execution_count": null,
   "metadata": {},
   "outputs": [],
   "source": []
  },
  {
   "cell_type": "code",
   "execution_count": null,
   "metadata": {},
   "outputs": [],
   "source": []
  }
 ],
 "metadata": {
  "kernelspec": {
   "display_name": "Python 3",
   "language": "python",
   "name": "python3"
  },
  "language_info": {
   "codemirror_mode": {
    "name": "ipython",
    "version": 3
   },
   "file_extension": ".py",
   "mimetype": "text/x-python",
   "name": "python",
   "nbconvert_exporter": "python",
   "pygments_lexer": "ipython3",
   "version": "3.6.9"
  }
 },
 "nbformat": 4,
 "nbformat_minor": 4
}
